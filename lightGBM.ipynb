{
 "cells": [
  {
   "cell_type": "code",
   "execution_count": 1,
   "metadata": {
    "colab": {
     "base_uri": "https://localhost:8080/",
     "height": 224
    },
    "colab_type": "code",
    "executionInfo": {
     "elapsed": 80416,
     "status": "ok",
     "timestamp": 1569821901426,
     "user": {
      "displayName": "黃郁翔",
      "photoUrl": "",
      "userId": "00360704714629442766"
     },
     "user_tz": -480
    },
    "id": "7uHhdxsrO15s",
    "outputId": "6f19b7f3-6420-4495-c3f3-091ecc956993"
   },
   "outputs": [
    {
     "name": "stdout",
     "output_type": "stream",
     "text": [
      "E: Package 'python-software-properties' has no installation candidate\n",
      "Selecting previously unselected package google-drive-ocamlfuse.\n",
      "(Reading database ... 131183 files and directories currently installed.)\n",
      "Preparing to unpack .../google-drive-ocamlfuse_0.7.13-0ubuntu1~ubuntu18.04.1_amd64.deb ...\n",
      "Unpacking google-drive-ocamlfuse (0.7.13-0ubuntu1~ubuntu18.04.1) ...\n",
      "Setting up google-drive-ocamlfuse (0.7.13-0ubuntu1~ubuntu18.04.1) ...\n",
      "Processing triggers for man-db (2.8.3-2ubuntu0.1) ...\n",
      "Please, open the following URL in a web browser: https://accounts.google.com/o/oauth2/auth?client_id=32555940559.apps.googleusercontent.com&redirect_uri=urn%3Aietf%3Awg%3Aoauth%3A2.0%3Aoob&scope=https%3A%2F%2Fwww.googleapis.com%2Fauth%2Fdrive&response_type=code&access_type=offline&approval_prompt=force\n",
      "··········\n",
      "Please, open the following URL in a web browser: https://accounts.google.com/o/oauth2/auth?client_id=32555940559.apps.googleusercontent.com&redirect_uri=urn%3Aietf%3Awg%3Aoauth%3A2.0%3Aoob&scope=https%3A%2F%2Fwww.googleapis.com%2Fauth%2Fdrive&response_type=code&access_type=offline&approval_prompt=force\n",
      "Please enter the verification code: Access token retrieved correctly.\n"
     ]
    }
   ],
   "source": [
    "!apt-get install -y -qq software-properties-common python-software-properties module-init-tools\n",
    "!add-apt-repository -y ppa:alessandro-strada/ppa 2>&1 > /dev/null\n",
    "!apt-get update -qq 2>&1 > /dev/null\n",
    "!apt-get -y install -qq google-drive-ocamlfuse fuse\n",
    "from google.colab import auth\n",
    "auth.authenticate_user()\n",
    "from oauth2client.client import GoogleCredentials\n",
    "creds = GoogleCredentials.get_application_default()\n",
    "import getpass\n",
    "!google-drive-ocamlfuse -headless -id={creds.client_id} -secret={creds.client_secret} < /dev/null 2>&1 | grep URL\n",
    "vcode = getpass.getpass()\n",
    "!echo {vcode} | google-drive-ocamlfuse -headless -id={creds.client_id} -secret={creds.client_secret}"
   ]
  },
  {
   "cell_type": "code",
   "execution_count": 0,
   "metadata": {
    "colab": {},
    "colab_type": "code",
    "id": "V-2E95_APGdC"
   },
   "outputs": [],
   "source": [
    "# 指定Google Drive云端硬盘的根目录，名为drive\n",
    "!mkdir -p drive\n",
    "!google-drive-ocamlfuse drive"
   ]
  },
  {
   "cell_type": "code",
   "execution_count": 3,
   "metadata": {
    "colab": {
     "base_uri": "https://localhost:8080/",
     "height": 34
    },
    "colab_type": "code",
    "executionInfo": {
     "elapsed": 1942,
     "status": "ok",
     "timestamp": 1569821915393,
     "user": {
      "displayName": "黃郁翔",
      "photoUrl": "",
      "userId": "00360704714629442766"
     },
     "user_tz": -480
    },
    "id": "5nW9x0D0nALL",
    "outputId": "d9154cdf-2be1-4187-ea44-811eee2f7654"
   },
   "outputs": [
    {
     "name": "stdout",
     "output_type": "stream",
     "text": [
      "/content/drive\n"
     ]
    }
   ],
   "source": [
    "cd drive"
   ]
  },
  {
   "cell_type": "code",
   "execution_count": 0,
   "metadata": {
    "colab": {},
    "colab_type": "code",
    "id": "dyD1t0FMPHxp"
   },
   "outputs": [],
   "source": [
    "# 指定當前的工作資料夾\n",
    "import os\n",
    "# 此處為google drive中的檔案路徑,drive為之前指定的工作根目錄，要加上\n",
    "os.chdir(\"Colab Notebooks/玉山秋季賽\") "
   ]
  },
  {
   "cell_type": "code",
   "execution_count": 0,
   "metadata": {
    "colab": {},
    "colab_type": "code",
    "id": "xfXPQkNPlMFu"
   },
   "outputs": [],
   "source": [
    "os.chdir(\"0930\") "
   ]
  },
  {
   "cell_type": "code",
   "execution_count": 0,
   "metadata": {
    "colab": {},
    "colab_type": "code",
    "id": "iUM3PlD18sTQ"
   },
   "outputs": [],
   "source": [
    "os.chdir(\"洗完資料\") "
   ]
  },
  {
   "cell_type": "code",
   "execution_count": 7,
   "metadata": {
    "colab": {
     "base_uri": "https://localhost:8080/",
     "height": 34
    },
    "colab_type": "code",
    "executionInfo": {
     "elapsed": 3436,
     "status": "ok",
     "timestamp": 1569821925771,
     "user": {
      "displayName": "黃郁翔",
      "photoUrl": "",
      "userId": "00360704714629442766"
     },
     "user_tz": -480
    },
    "id": "TivcVp4Y28op",
    "outputId": "3d62f35a-8bad-4e3b-e77b-e20591953ec2"
   },
   "outputs": [
    {
     "name": "stdout",
     "output_type": "stream",
     "text": [
      "submission_test.csv  test_0920.csv  train_0920.csv\n"
     ]
    }
   ],
   "source": [
    "ls"
   ]
  },
  {
   "cell_type": "code",
   "execution_count": 0,
   "metadata": {
    "colab": {},
    "colab_type": "code",
    "id": "IfJ8wJv68xYH"
   },
   "outputs": [],
   "source": [
    "import lightgbm as lgb\n",
    "import pandas as pd\n",
    "import numpy as np\n",
    "import pickle\n",
    "from sklearn.metrics import roc_auc_score\n",
    "from sklearn.model_selection import train_test_split\n",
    "from sklearn import datasets"
   ]
  },
  {
   "cell_type": "code",
   "execution_count": 0,
   "metadata": {
    "colab": {},
    "colab_type": "code",
    "id": "eWkFOLeL807W"
   },
   "outputs": [],
   "source": [
    "#匯入訓練資料\n",
    "#雲端匯入\n",
    "df = pd.read_csv('./train_0920.csv', encoding='utf-8')"
   ]
  },
  {
   "cell_type": "code",
   "execution_count": 10,
   "metadata": {
    "colab": {
     "base_uri": "https://localhost:8080/",
     "height": 34
    },
    "colab_type": "code",
    "executionInfo": {
     "elapsed": 1132,
     "status": "ok",
     "timestamp": 1569821938409,
     "user": {
      "displayName": "黃郁翔",
      "photoUrl": "",
      "userId": "00360704714629442766"
     },
     "user_tz": -480
    },
    "id": "DPoNy5cg9DyY",
    "outputId": "095cf5c6-0484-4642-a675-b574ef086798"
   },
   "outputs": [
    {
     "data": {
      "text/plain": [
       "dtype('int64')"
      ]
     },
     "execution_count": 10,
     "metadata": {
      "tags": []
     },
     "output_type": "execute_result"
    }
   ],
   "source": [
    "data = df.drop([\"fraud_ind\"], axis=1) #剔除 y\n",
    "X = data \n",
    "y = df.fraud_ind #選擇 y\n",
    "y.dtypes"
   ]
  },
  {
   "cell_type": "code",
   "execution_count": 0,
   "metadata": {
    "colab": {},
    "colab_type": "code",
    "id": "WkB_vZxY5kkU"
   },
   "outputs": [],
   "source": [
    "#切割訓練70%跟測試30%\n",
    "X_train, X_test, y_train, y_test = train_test_split(X, y, test_size=0.01)"
   ]
  },
  {
   "cell_type": "code",
   "execution_count": 0,
   "metadata": {
    "colab": {
     "base_uri": "https://localhost:8080/",
     "height": 51
    },
    "colab_type": "code",
    "executionInfo": {
     "elapsed": 7981806,
     "status": "ok",
     "timestamp": 1569812141821,
     "user": {
      "displayName": "黃郁翔",
      "photoUrl": "",
      "userId": "00360704714629442766"
     },
     "user_tz": -480
    },
    "id": "MqI0PLQsaodI",
    "outputId": "7b0e0a11-4804-433c-e605-ecfd975629c5"
   },
   "outputs": [
    {
     "name": "stderr",
     "output_type": "stream",
     "text": [
      "/usr/local/lib/python3.6/dist-packages/lightgbm/engine.py:118: UserWarning: Found `num_iterations` in params. Will use it instead of argument\n",
      "  warnings.warn(\"Found `{}` in params. Will use it instead of argument\".format(alias))\n"
     ]
    }
   ],
   "source": [
    "model = lgb.LGBMClassifier(\n",
    "                task = 'train',\n",
    "                application = 'binary',\n",
    "                boosting = 'goss',\n",
    "                num_iterations = 60000,\n",
    "                learning_rate = 0.001,\n",
    "                num_leaves = 50,\n",
    "                tree_learner = 'serial',\n",
    "                num_threads = 3,\n",
    "                max_depth = 8,\n",
    "                min_data_in_leaf = 50,\n",
    "                feature_fraction = 1,\n",
    "                bagging_fraction = 1,\n",
    "                bagging_freq = 10,\n",
    "                lambda_l2 = 0.0001\n",
    ")\n",
    "model.fit(X_train, y_train)"
   ]
  },
  {
   "cell_type": "code",
   "execution_count": 0,
   "metadata": {
    "colab": {},
    "colab_type": "code",
    "id": "2_HDa4fACQxQ"
   },
   "outputs": [],
   "source": [
    "#匯入玉山測試集資料\n",
    "#uploaded = files.upload()\n",
    "#雲端匯入\n",
    "#dftest = pd.read_csv(io.BytesIO(uploaded['test_1w_0607.csv']))\n",
    "dftest = pd.read_csv('./test_0920.csv', encoding='utf-8')"
   ]
  },
  {
   "cell_type": "code",
   "execution_count": 0,
   "metadata": {
    "colab": {
     "base_uri": "https://localhost:8080/",
     "height": 35
    },
    "colab_type": "code",
    "executionInfo": {
     "elapsed": 1962,
     "status": "ok",
     "timestamp": 1569812213361,
     "user": {
      "displayName": "黃郁翔",
      "photoUrl": "",
      "userId": "00360704714629442766"
     },
     "user_tz": -480
    },
    "id": "LOTcyAHNDGDb",
    "outputId": "f7a70c52-8de7-4970-90b1-48040ecce8d9"
   },
   "outputs": [
    {
     "data": {
      "text/plain": [
       "421665"
      ]
     },
     "execution_count": 19,
     "metadata": {
      "tags": []
     },
     "output_type": "execute_result"
    }
   ],
   "source": [
    "data_test = dftest[X_test.columns]\n",
    "data_test.shape[0]"
   ]
  },
  {
   "cell_type": "code",
   "execution_count": 0,
   "metadata": {
    "colab": {
     "base_uri": "https://localhost:8080/",
     "height": 35
    },
    "colab_type": "code",
    "executionInfo": {
     "elapsed": 5879496,
     "status": "ok",
     "timestamp": 1569818094431,
     "user": {
      "displayName": "黃郁翔",
      "photoUrl": "",
      "userId": "00360704714629442766"
     },
     "user_tz": -480
    },
    "id": "dN1ZuK1ACZuN",
    "outputId": "0ee141a8-ffa4-4d72-e214-c2a023799585"
   },
   "outputs": [
    {
     "name": "stdout",
     "output_type": "stream",
     "text": [
      "421665\n"
     ]
    }
   ],
   "source": [
    "#做測試集預測\n",
    "y_hat_test = model.predict(data_test)\n",
    "pdata=pd.DataFrame(y_hat_test)\n",
    "test_yhat = pdata.rename(columns={0: 'fraud_ind'})\n",
    "print(test_yhat.shape[0])"
   ]
  },
  {
   "cell_type": "code",
   "execution_count": 0,
   "metadata": {
    "colab": {},
    "colab_type": "code",
    "id": "ZS5oWPSiDKSj"
   },
   "outputs": [],
   "source": [
    "#匯入訓練資料\n",
    "#uploaded = files.upload()\n",
    "#雲端匯入\n",
    "summit = pd.read_csv('./submission_test.csv', encoding='utf-8')\n",
    "summit = summit.drop([\"fraud_ind\"], axis=1) #剔除 old total.price"
   ]
  },
  {
   "cell_type": "code",
   "execution_count": 0,
   "metadata": {
    "colab": {
     "base_uri": "https://localhost:8080/",
     "height": 198
    },
    "colab_type": "code",
    "executionInfo": {
     "elapsed": 2094,
     "status": "ok",
     "timestamp": 1569819209086,
     "user": {
      "displayName": "黃郁翔",
      "photoUrl": "",
      "userId": "00360704714629442766"
     },
     "user_tz": -480
    },
    "id": "250nxkTBhvLz",
    "outputId": "aaa0561e-ea7a-44e2-845f-c29ebab272f9"
   },
   "outputs": [
    {
     "data": {
      "text/html": [
       "<div>\n",
       "<style scoped>\n",
       "    .dataframe tbody tr th:only-of-type {\n",
       "        vertical-align: middle;\n",
       "    }\n",
       "\n",
       "    .dataframe tbody tr th {\n",
       "        vertical-align: top;\n",
       "    }\n",
       "\n",
       "    .dataframe thead th {\n",
       "        text-align: right;\n",
       "    }\n",
       "</style>\n",
       "<table border=\"1\" class=\"dataframe\">\n",
       "  <thead>\n",
       "    <tr style=\"text-align: right;\">\n",
       "      <th></th>\n",
       "      <th>txkey</th>\n",
       "      <th>fraud_ind</th>\n",
       "    </tr>\n",
       "  </thead>\n",
       "  <tbody>\n",
       "    <tr>\n",
       "      <th>0</th>\n",
       "      <td>592489</td>\n",
       "      <td>0</td>\n",
       "    </tr>\n",
       "    <tr>\n",
       "      <th>1</th>\n",
       "      <td>592452</td>\n",
       "      <td>0</td>\n",
       "    </tr>\n",
       "    <tr>\n",
       "      <th>2</th>\n",
       "      <td>590212</td>\n",
       "      <td>0</td>\n",
       "    </tr>\n",
       "    <tr>\n",
       "      <th>3</th>\n",
       "      <td>590209</td>\n",
       "      <td>0</td>\n",
       "    </tr>\n",
       "    <tr>\n",
       "      <th>4</th>\n",
       "      <td>592488</td>\n",
       "      <td>0</td>\n",
       "    </tr>\n",
       "  </tbody>\n",
       "</table>\n",
       "</div>"
      ],
      "text/plain": [
       "    txkey  fraud_ind\n",
       "0  592489          0\n",
       "1  592452          0\n",
       "2  590212          0\n",
       "3  590209          0\n",
       "4  592488          0"
      ]
     },
     "execution_count": 22,
     "metadata": {
      "tags": []
     },
     "output_type": "execute_result"
    }
   ],
   "source": [
    "summit_new = pd.concat([summit, test_yhat],axis=1) \n",
    "summit_new .iloc[:5,:3]"
   ]
  },
  {
   "cell_type": "markdown",
   "metadata": {
    "colab_type": "text",
    "id": "fm1hIVVdxn6e"
   },
   "source": [
    "#輸出"
   ]
  },
  {
   "cell_type": "markdown",
   "metadata": {
    "colab_type": "text",
    "id": "GXhqKWZTxyyZ"
   },
   "source": [
    "#先退回目錄在指進其他資料夾"
   ]
  },
  {
   "cell_type": "code",
   "execution_count": 0,
   "metadata": {
    "colab": {
     "base_uri": "https://localhost:8080/",
     "height": 35
    },
    "colab_type": "code",
    "executionInfo": {
     "elapsed": 1690,
     "status": "ok",
     "timestamp": 1569819213230,
     "user": {
      "displayName": "黃郁翔",
      "photoUrl": "",
      "userId": "00360704714629442766"
     },
     "user_tz": -480
    },
    "id": "FT46OZTHx1og",
    "outputId": "b8125187-454b-4d6a-916e-5409eb7aa769"
   },
   "outputs": [
    {
     "name": "stdout",
     "output_type": "stream",
     "text": [
      "/content/drive/Colab Notebooks/玉山秋季賽/0930\n"
     ]
    }
   ],
   "source": [
    "cd .."
   ]
  },
  {
   "cell_type": "code",
   "execution_count": 0,
   "metadata": {
    "colab": {},
    "colab_type": "code",
    "id": "IoZLLdiOx5cc"
   },
   "outputs": [],
   "source": [
    "os.chdir(\"結果\")"
   ]
  },
  {
   "cell_type": "code",
   "execution_count": 0,
   "metadata": {
    "colab": {},
    "colab_type": "code",
    "id": "Jl4TptBNiLqf"
   },
   "outputs": [],
   "source": [
    "summit_new.to_csv('0930A.csv', sep=',', encoding='utf-8',index=0) #不保存行索引"
   ]
  }
 ],
 "metadata": {
  "accelerator": "GPU",
  "colab": {
   "collapsed_sections": [],
   "name": "lightGBM.ipynb",
   "provenance": []
  },
  "kernelspec": {
   "display_name": "Python 3",
   "language": "python",
   "name": "python3"
  },
  "language_info": {
   "codemirror_mode": {
    "name": "ipython",
    "version": 3
   },
   "file_extension": ".py",
   "mimetype": "text/x-python",
   "name": "python",
   "nbconvert_exporter": "python",
   "pygments_lexer": "ipython3",
   "version": "3.7.3"
  }
 },
 "nbformat": 4,
 "nbformat_minor": 1
}
